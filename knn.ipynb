{
  "nbformat": 4,
  "nbformat_minor": 0,
  "metadata": {
    "colab": {
      "provenance": []
    },
    "kernelspec": {
      "name": "python3",
      "display_name": "Python 3"
    },
    "language_info": {
      "name": "python"
    }
  },
  "cells": [
    {
      "cell_type": "markdown",
      "source": [
        "# K-Nearest Neighbor(KNN) Algorithm for Machine Learning"
      ],
      "metadata": {
        "id": "f9LfUD4k5zv0"
      }
    },
    {
      "cell_type": "markdown",
      "source": [
        "- based on Supervised Learning technique.\n",
        "\n",
        "- K-NN algorithm stores all the available data and classifies a new data point based on the similarity. This means when new data appears then it can be easily classified into a well suite category by using K- NN algorithm\n",
        "\n",
        "- used for Regression as well as for Classification but mostly it is used for the Classification problems\n",
        "\n",
        "- K-NN is a non-parametric algorithm"
      ],
      "metadata": {
        "id": "Xid8jfTq54tw"
      }
    },
    {
      "cell_type": "markdown",
      "source": [
        "# Why do we need a K-NN Algorithm?\n",
        "\n",
        "Suppose there are two categories, i.e., Category A and Category B, and we have a new data point x1, so this data point will lie in which of these categories. To solve this type of problem, we need a K-NN algorithm. With the help of K-NN, we can easily identify the category or class of a particular dataset. Consider the below diagram:"
      ],
      "metadata": {
        "id": "iGuMWqVE631C"
      }
    },
    {
      "cell_type": "code",
      "source": [
        "from IPython.display import Image\n",
        "Image('/content/knn1.png')"
      ],
      "metadata": {
        "colab": {
          "base_uri": "https://localhost:8080/",
          "height": 317
        },
        "id": "TK2Wkbn-9crp",
        "outputId": "26605e9b-0cec-4b46-af02-a6cafbb663a8"
      },
      "execution_count": 8,
      "outputs": [
        {
          "output_type": "execute_result",
          "data": {
            "image/png": "[encoded data removed]",
            "text/plain": [
              "<IPython.core.display.Image object>"
            ]
          },
          "metadata": {},
          "execution_count": 8
        }
      ]
    },
    {
      "cell_type": "markdown",
      "source": [
        "Steps:\n",
        "\n",
        "1. Select the number K of the neighbors\n",
        "\n",
        "2. Calculate the Euclidean distance of K number of neighbors\n",
        "\n",
        "          \n",
        "          "
      ],
      "metadata": {
        "id": "MaHoTrId9vzB"
      }
    },
    {
      "cell_type": "code",
      "source": [
        "Image('/content/euclid2.jpg')"
      ],
      "metadata": {
        "colab": {
          "base_uri": "https://localhost:8080/",
          "height": 59
        },
        "id": "KpwgA-7W-y9a",
        "outputId": "9e2dc364-85da-47e2-ef87-09c4361e5561"
      },
      "execution_count": 10,
      "outputs": [
        {
          "output_type": "execute_result",
          "data": {
            "image/jpeg": "[encoded data removed]",
            "text/plain": [
              "<IPython.core.display.Image object>"
            ]
          },
          "metadata": {},
          "execution_count": 10
        }
      ]
    },
    {
      "cell_type": "markdown",
      "source": [
        "3. Take the K nearest neighbors as per the calculated Euclidean distance\n",
        "\n",
        "4. Among these k neighbors, count the number of the data points in each category\n",
        "\n",
        "5. Assign the new data points to that category for which the number of the neighbor is maximum\n",
        "\n",
        "6. Our Model is ready"
      ],
      "metadata": {
        "id": "ysYYzKn-_vka"
      }
    },
    {
      "cell_type": "code",
      "execution_count": 2,
      "metadata": {
        "id": "AMHJWKJszWYE"
      },
      "outputs": [],
      "source": [
        "import numpy as np\n",
        "from collections import Counter\n",
        "\n",
        "def euclidean_distance(x1,x2):\n",
        "  return np.sqrt(np.sum((x1-x2)**2))\n",
        "\n",
        "class KNN:\n",
        "  def __init__(self, k=3):\n",
        "    self.k = k\n",
        "\n",
        "  def fit(self, X, y):\n",
        "    self.X_train = X\n",
        "    self.y_train = y\n",
        "\n",
        "  def predict(self, X):\n",
        "    y_pred = [ self._predict(x) for x in X ]\n",
        "    return np.array(y_pred)\n",
        "\n",
        "  def _predict(self, x):\n",
        "    # get the distances\n",
        "    distances = [ euclidean_distance(x, x_train) for x_train in self.X_train ]\n",
        "\n",
        "    # Sort by distance and return indices of the first k neighbors\n",
        "    k_idx = np.argsort(distances)[:self.k]\n",
        "\n",
        "    # Extract the labels of the k nearest neighbor training samples\n",
        "    k_nearest_labels = [ self.y_train[i] for i in k_idx ]\n",
        "\n",
        "    # return the most common class label\n",
        "    most_common = Counter(k_nearest_labels).most_common(1)\n",
        "    return most_common[0][0]\n"
      ]
    },
    {
      "cell_type": "code",
      "source": [
        "if __name__ =='__main__':\n",
        "  # importing the dependencies\n",
        "  import numpy as np\n",
        "  from sklearn import datasets\n",
        "  from sklearn.model_selection import train_test_split\n",
        "  \n",
        "  def accuracy(y_true, y_pred):\n",
        "    acc = np.sum(y_true == y_pred)/len(y_true)\n",
        "    return acc\n",
        "\n",
        "  # loading the iris dataset\n",
        "  iris = datasets.load_iris()\n",
        "  X, y = iris.data ,iris.target\n",
        "\n",
        "  # Spliting the dataset into training and testing data\n",
        "  X_train, X_test, y_train, y_test = train_test_split(X, y, test_size=0.2, random_state=1234)\n",
        "\n",
        "  # modeling \n",
        "  clf = KNN(k=3)\n",
        "  # fitting the traning data \n",
        "  clf.fit(X_train, y_train)\n",
        "  # predicting the labels of test data\n",
        "  predictions = clf.predict(X_test)\n",
        "\n",
        "  # Accuracy\n",
        "  print('KNN accuracy is : ', accuracy(y_test, predictions))\n",
        "\n"
      ],
      "metadata": {
        "colab": {
          "base_uri": "https://localhost:8080/"
        },
        "id": "0SSNVvk1zh9M",
        "outputId": "af5e30d6-ba0f-4216-e14f-cce9f4ca122d"
      },
      "execution_count": 3,
      "outputs": [
        {
          "output_type": "stream",
          "name": "stdout",
          "text": [
            "KNN accuracy is :  1.0\n"
          ]
        }
      ]
    },
    {
      "cell_type": "code",
      "source": [],
      "metadata": {
        "id": "f8aTuOPT5iWt"
      },
      "execution_count": null,
      "outputs": []
    }
  ]
}